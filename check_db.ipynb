{
 "cells": [
  {
   "cell_type": "code",
   "execution_count": 5,
   "metadata": {},
   "outputs": [
    {
     "name": "stdout",
     "output_type": "stream",
     "text": [
      "[('2022-08-01 04:20:44', 2, 3), ('2022-08-01 04:21:18', 1, 4), ('2022-08-01 04:22:30', 2, 3), ('2022-08-01 04:22:37', 2, 3), ('2022-08-01 04:22:43', 0, 5)]\n"
     ]
    }
   ],
   "source": [
    "import sqlite3\n",
    "\n",
    "conn = sqlite3.connect('hypotest.db')\n",
    "cur = conn.cursor()\n",
    "all_data = cur.execute(\"\"\"select * from form_data;\"\"\")\n",
    "print(all_data.fetchall())"
   ]
  }
 ],
 "metadata": {
  "kernelspec": {
   "display_name": "Python 3.8.5 32-bit",
   "language": "python",
   "name": "python3"
  },
  "language_info": {
   "codemirror_mode": {
    "name": "ipython",
    "version": 3
   },
   "file_extension": ".py",
   "mimetype": "text/x-python",
   "name": "python",
   "nbconvert_exporter": "python",
   "pygments_lexer": "ipython3",
   "version": "3.8.5"
  },
  "orig_nbformat": 4,
  "vscode": {
   "interpreter": {
    "hash": "3d69de21ac8df463972531a72b85ccd36f2ee24114593a2a4acc36d6014952b1"
   }
  }
 },
 "nbformat": 4,
 "nbformat_minor": 2
}
